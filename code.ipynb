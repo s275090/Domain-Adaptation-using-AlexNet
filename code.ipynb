{
  "nbformat": 4,
  "nbformat_minor": 0,
  "metadata": {
    "colab": {
      "name": "Copy of Homework3.ipynb",
      "provenance": [],
      "collapsed_sections": []
    },
    "kernelspec": {
      "name": "python3",
      "display_name": "Python 3"
    },
    "accelerator": "GPU"
  },
  "cells": [
    {
      "cell_type": "markdown",
      "metadata": {
        "id": "c9QcGnGPdX2C",
        "colab_type": "text"
      },
      "source": [
        "\n",
        "**Install requirements**"
      ]
    },
    {
      "cell_type": "code",
      "metadata": {
        "id": "k9O3aM3Tb28q",
        "colab_type": "code",
        "colab": {}
      },
      "source": [
        "!pip3 install 'torch==1.3.1'\n",
        "!pip3 install 'torchvision==0.5.0'\n",
        "!pip3 install 'Pillow-SIMD'\n",
        "!pip3 install 'tqdm'"
      ],
      "execution_count": 0,
      "outputs": []
    },
    {
      "cell_type": "markdown",
      "metadata": {
        "id": "fo942LMOdlh4",
        "colab_type": "text"
      },
      "source": [
        "**Import libraries**"
      ]
    },
    {
      "cell_type": "code",
      "metadata": {
        "id": "DokFOdD1dJEl",
        "colab_type": "code",
        "colab": {}
      },
      "source": [
        "import os\n",
        "import logging\n",
        "\n",
        "import torch\n",
        "import torch.nn as nn\n",
        "import torch.optim as optim\n",
        "from torch.utils.data import Subset, DataLoader\n",
        "from torch.backends import cudnn\n",
        "\n",
        "import torchvision\n",
        "from torchvision import transforms\n",
        "\n",
        "from PIL import Image\n",
        "from tqdm import tqdm\n",
        "import matplotlib.pyplot as plt\n",
        "from sklearn.model_selection import ParameterGrid\n",
        "\n",
        "\n",
        "FIG_SIZE = (8, 5)\n",
        "RANDOM_STATE = 42"
      ],
      "execution_count": 0,
      "outputs": []
    },
    {
      "cell_type": "code",
      "metadata": {
        "id": "1mR8AWUUBD1j",
        "colab_type": "code",
        "colab": {}
      },
      "source": [
        "def plot_stat(t, labelt = 'Train', v = None, labelv = 'Val'):\n",
        "    plt.figure(figsize=FIG_SIZE)\n",
        "    plt.plot(range(len(t)),t, marker='o', label=labelt)\n",
        "    if v is not None:\n",
        "      plt.plot(range(len(t)),v,marker='o', label=labelv)\n",
        "\n",
        "    plt.title(\"Loss on for each Epoch\")\n",
        "    plt.xlabel(\"Epoch\")\n",
        "    plt.ylabel(\"Loss\")\n",
        "    plt.legend()\n",
        "    plt.show()"
      ],
      "execution_count": 0,
      "outputs": []
    },
    {
      "cell_type": "code",
      "metadata": {
        "id": "Y8i3YD1A7IH0",
        "colab_type": "code",
        "colab": {}
      },
      "source": [
        "from torch.autograd import Function\n",
        "\n",
        "class ReverseLayerF(Function):\n",
        "    # Forwards identity\n",
        "    # Sends backward reversed gradients\n",
        "    @staticmethod\n",
        "    def forward(ctx, x, alpha):\n",
        "        ctx.alpha = alpha\n",
        "\n",
        "        return x.view_as(x)\n",
        "\n",
        "    @staticmethod\n",
        "    def backward(ctx, grad_output):\n",
        "        output = grad_output.neg() * ctx.alpha\n",
        "\n",
        "        return output, None\n"
      ],
      "execution_count": 0,
      "outputs": []
    },
    {
      "cell_type": "code",
      "metadata": {
        "id": "Xsv_bIbq61Xn",
        "colab_type": "code",
        "colab": {}
      },
      "source": [
        "from torch.hub import load_state_dict_from_url\n",
        "\n",
        "__all__ = ['AlexNet', 'alexnet']\n",
        "\n",
        "\n",
        "model_urls = {\n",
        "    'alexnet': 'https://download.pytorch.org/models/alexnet-owt-4df8aa71.pth',\n",
        "}\n",
        "\n",
        "\n",
        "class AlexNet(nn.Module):\n",
        "\n",
        "    def __init__(self, num_classes=1000):\n",
        "        super(AlexNet, self).__init__()\n",
        "        self.features = nn.Sequential(\n",
        "            nn.Conv2d(3, 64, kernel_size=11, stride=4, padding=2),\n",
        "            nn.ReLU(inplace=True),\n",
        "            nn.MaxPool2d(kernel_size=3, stride=2),\n",
        "            nn.Conv2d(64, 192, kernel_size=5, padding=2),\n",
        "            nn.ReLU(inplace=True),\n",
        "            nn.MaxPool2d(kernel_size=3, stride=2),\n",
        "            nn.Conv2d(192, 384, kernel_size=3, padding=1),\n",
        "            nn.ReLU(inplace=True),\n",
        "            nn.Conv2d(384, 256, kernel_size=3, padding=1),\n",
        "            nn.ReLU(inplace=True),\n",
        "            nn.Conv2d(256, 256, kernel_size=3, padding=1),\n",
        "            nn.ReLU(inplace=True),\n",
        "            nn.MaxPool2d(kernel_size=3, stride=2),\n",
        "        )\n",
        "        self.avgpool = nn.AdaptiveAvgPool2d((6, 6))\n",
        "        self.classifier = nn.Sequential(\n",
        "            nn.Dropout(),\n",
        "            nn.Linear(256 * 6 * 6, 4096),\n",
        "            nn.ReLU(inplace=True),\n",
        "            nn.Dropout(),\n",
        "            nn.Linear(4096, 4096),\n",
        "            nn.ReLU(inplace=True),\n",
        "            nn.Linear(4096, num_classes),\n",
        "        )\n",
        "        self.dann = nn.Sequential(\n",
        "            nn.Dropout(),\n",
        "            nn.Linear(256 * 6 * 6, 4096),\n",
        "            nn.ReLU(inplace=True),\n",
        "            nn.Dropout(),\n",
        "            nn.Linear(4096, 4096),\n",
        "            nn.ReLU(inplace=True),\n",
        "            nn.Linear(4096, num_classes),\n",
        "        )\n",
        "\n",
        "    def forward(self, x, alpha=None):\n",
        "        features = self.features(x)\n",
        "        features = self.avgpool(features)\n",
        "        # Flatten the features:\n",
        "        features = torch.flatten(features, 1)\n",
        "        # If we pass alpha, we can assume we are training the discriminator\n",
        "        if alpha is not None:\n",
        "            # gradient reversal layer (backward gradients will be reversed)\n",
        "            reverse_feature = ReverseLayerF.apply(features, alpha)\n",
        "            discriminator_output = self.dann(reverse_feature)\n",
        "            return discriminator_output\n",
        "        # If we don't pass alpha, we assume we are training with supervision\n",
        "        else:\n",
        "            # do something else\n",
        "            class_outputs = self.classifier(features)\n",
        "            return class_outputs\n",
        "\n",
        "\n",
        "def alexnet(pretrained=False, progress=True, **kwargs):\n",
        "    r\"\"\"AlexNet model architecture from the\n",
        "    `\"One weird trick...\" <https://arxiv.org/abs/1404.5997>`_ paper.\n",
        "    Args:\n",
        "        pretrained (bool): If True, returns a model pre-trained on ImageNet\n",
        "        progress (bool): If True, displays a progress bar of the download to stderr\n",
        "    \"\"\"\n",
        "    model = AlexNet(**kwargs)\n",
        "    if pretrained:\n",
        "        state_dict = load_state_dict_from_url(model_urls['alexnet'],\n",
        "                                              progress=progress)\n",
        "        model.load_state_dict(state_dict, strict=False)\n",
        "        \n",
        "        model.dann[1].weight.data = model.classifier[1].weight.data\n",
        "        model.dann[1].bias.data = model.classifier[1].bias.data\n",
        "        model.dann[4].weight.data = model.classifier[4].weight.data\n",
        "        model.dann[4].bias.data = model.classifier[4].bias.data\n",
        "    return model"
      ],
      "execution_count": 0,
      "outputs": []
    },
    {
      "cell_type": "markdown",
      "metadata": {
        "id": "OIDLJuIXK_vh",
        "colab_type": "text"
      },
      "source": [
        "**Set Arguments**"
      ]
    },
    {
      "cell_type": "code",
      "metadata": {
        "id": "d5PkYfqfK_SA",
        "colab_type": "code",
        "colab": {}
      },
      "source": [
        "DEVICE = 'cuda' # 'cuda' or 'cpu'\n",
        "\n",
        "NUM_CLASSES = 7 \n",
        "\n",
        "BATCH_SIZE = 256     # Higher batch sizes allows for larger learning rates. An empirical heuristic suggests that, when changing\n",
        "                     # the batch size, learning rate should change by the same factor to have comparable results\n",
        "\n",
        "LR = 1e-3            # The initial Learning Rate\n",
        "MOMENTUM = 0.9       # Hyperparameter for SGD, keep this at 0.9 when using SGD\n",
        "WEIGHT_DECAY = 5e-5  # Regularization, you can keep this at the default\n",
        "\n",
        "NUM_EPOCHS = 30      # Total number of training epochs (iterations over dataset)\n",
        "STEP_SIZE = 20       # How many epochs before decreasing learning rate (if using a step-down policy)\n",
        "GAMMA = 0.1          # Multiplicative factor for learning rate step-down\n",
        "\n",
        "LOG_FREQUENCY = 10\n",
        "\n",
        "DANN = True\n",
        "ALPHA = 0.1"
      ],
      "execution_count": 0,
      "outputs": []
    },
    {
      "cell_type": "markdown",
      "metadata": {
        "id": "9gwii0TBHvzh",
        "colab_type": "text"
      },
      "source": [
        "**Define Data Preprocessing**"
      ]
    },
    {
      "cell_type": "code",
      "metadata": {
        "id": "QUDdw4j2H0Mc",
        "colab_type": "code",
        "colab": {}
      },
      "source": [
        "# Define transforms for training phase\n",
        "train_transform = transforms.Compose([transforms.Resize(256),      # Resizes short size of the PIL image to 256\n",
        "                                      transforms.CenterCrop(224),  # Crops a central square patch of the image\n",
        "                                                                   # 224 because torchvision's AlexNet needs a 224x224 input!\n",
        "                                                                   # Remember this when applying different transformations, otherwise you get an error\n",
        "                                      transforms.RandomCrop( 64 , padding =2) ,\n",
        "                                      transforms.ToTensor(), # Turn PIL Image to torch.Tensor\n",
        "                                      transforms.Normalize((0.485, 0.456, 0.406), (0.229, 0.224, 0.225)) # Normalizes tensor with mean and standard deviation\n",
        "])\n",
        "# Define transforms for the evaluation phase\n",
        "eval_transform = transforms.Compose([transforms.Resize(256),\n",
        "                                      transforms.CenterCrop(224),\n",
        "                                      transforms.ToTensor(),\n",
        "                                      transforms.Normalize((0.485, 0.456, 0.406), (0.229, 0.224, 0.225))                                    \n",
        "])"
      ],
      "execution_count": 0,
      "outputs": []
    },
    {
      "cell_type": "markdown",
      "metadata": {
        "id": "2qYIHPzYLY7i",
        "colab_type": "text"
      },
      "source": [
        "**Prepare Dataset**"
      ]
    },
    {
      "cell_type": "code",
      "metadata": {
        "id": "QfVq_uDHLbsR",
        "colab_type": "code",
        "colab": {}
      },
      "source": [
        "# Clone github repository with data\n",
        "if not os.path.isdir('./Homework3-PACS'):\n",
        "  !git clone https://github.com/MachineLearning2020/Homework3-PACS.git\n",
        "\n",
        "DATA_DIR = 'Homework3-PACS/PACS'\n",
        "\n",
        "TRAIN_DATA_DIR = DATA_DIR + '/photo'\n",
        "TEST_DATA_DIR = DATA_DIR + '/art_painting'\n",
        "\n",
        "CARTOON_DATA_DIR =  DATA_DIR + '/cartoon'\n",
        "SKETCH_DATA_DIR = DATA_DIR + '/sketch'\n",
        "\n",
        "# Prepare Pytorch train/test Datasets\n",
        "train_dataset = torchvision.datasets.ImageFolder(TRAIN_DATA_DIR, transform=train_transform)\n",
        "target_dataset = torchvision.datasets.ImageFolder(TEST_DATA_DIR, transform=train_transform)\n",
        "test_dataset = torchvision.datasets.ImageFolder(TEST_DATA_DIR, transform=eval_transform)\n",
        "cartoon_dataset = torchvision.datasets.ImageFolder(CARTOON_DATA_DIR, transform=eval_transform)\n",
        "sketch_dataset = torchvision.datasets.ImageFolder(SKETCH_DATA_DIR, transform=eval_transform)\n",
        "\n",
        "train_indexes = [idx for idx in range(len(train_dataset)) if idx % 5]\n",
        "target_indexes = [idx for idx in range(len(target_dataset)) if not idx % 5]\n",
        "test_indexes = [idx for idx in range(len(test_dataset)) if not idx % 5]\n",
        "cartoon_indexes = [idx for idx in range(len(cartoon_dataset)) if not idx % 5]\n",
        "sketch_indexes = [idx for idx in range(len(sketch_dataset)) if not idx % 5]\n",
        "\n",
        "train_dataset = Subset(train_dataset, train_indexes)\n",
        "target_dataset = Subset(target_dataset, target_indexes)\n",
        "test_dataset = Subset(test_dataset, test_indexes)\n",
        "cartoon_dataset = Subset(cartoon_dataset, cartoon_indexes)\n",
        "sketch_dataset = Subset(sketch_dataset, sketch_indexes)\n",
        "\n",
        "# Check dataset sizes\n",
        "print('Train Dataset: {}'.format(len(train_dataset)))\n",
        "print('Test Dataset: {}'.format(len(test_dataset)))\n",
        "print('Cartoon Dataset: {}'.format(len(cartoon_dataset)))\n",
        "print('Sketch Dataset: {}'.format(len(sketch_dataset)))"
      ],
      "execution_count": 0,
      "outputs": []
    },
    {
      "cell_type": "markdown",
      "metadata": {
        "id": "FYEDQ7Z21ldN",
        "colab_type": "text"
      },
      "source": [
        "**Prepare Dataloaders**"
      ]
    },
    {
      "cell_type": "code",
      "metadata": {
        "id": "VriRw8SI1nle",
        "colab_type": "code",
        "colab": {}
      },
      "source": [
        "# Dataloaders iterate over pytorch datasets and transparently provide useful functions (e.g. parallelization and shuffling)\n",
        "train_dataloader = DataLoader(train_dataset, batch_size=BATCH_SIZE, shuffle=True, num_workers=4, drop_last=True)\n",
        "target_dataloader = DataLoader(target_dataset, batch_size=BATCH_SIZE, shuffle=False, num_workers=4)\n",
        "\n",
        "test_dataloader = DataLoader(test_dataset, batch_size=BATCH_SIZE, shuffle=False, num_workers=4)\n",
        "cartoon_dataloader = DataLoader(cartoon_dataset, batch_size=BATCH_SIZE, shuffle=False, num_workers=4)\n",
        "sketch_dataloader = DataLoader(sketch_dataset, batch_size=BATCH_SIZE, shuffle=False, num_workers=4)"
      ],
      "execution_count": 0,
      "outputs": []
    },
    {
      "cell_type": "markdown",
      "metadata": {
        "id": "gbZ1t5Qs2z4j",
        "colab_type": "text"
      },
      "source": [
        "**Prepare Network**"
      ]
    },
    {
      "cell_type": "code",
      "metadata": {
        "id": "exHUjtXa22DN",
        "colab_type": "code",
        "colab": {}
      },
      "source": [
        "net = alexnet(pretrained=True) # Loading AlexNet model\n",
        "\n",
        "# AlexNet has 1000 output neurons, corresponding to the 1000 ImageNet's classes\n",
        "\n",
        "net.classifier[6] = nn.Linear(4096, NUM_CLASSES) # nn.Linear in pytorch is a fully connected layer\n",
        "                                                 # The convolutional layer is nn.Conv2d\n",
        "net.dann[6] = nn.Linear(4096,2) \n",
        "\n",
        "# It is mandatory to study torchvision.models.alexnet source code\n",
        "\n"
      ],
      "execution_count": 0,
      "outputs": []
    },
    {
      "cell_type": "markdown",
      "metadata": {
        "id": "KEyL3H_R4qCf",
        "colab_type": "text"
      },
      "source": [
        "**Prepare Training**"
      ]
    },
    {
      "cell_type": "code",
      "metadata": {
        "id": "9sjq00G94tSc",
        "colab_type": "code",
        "colab": {}
      },
      "source": [
        "# Define loss function\n",
        "criterion = nn.CrossEntropyLoss() # for classification, we use Cross Entropy\n",
        "\n",
        "# Choose parameters to optimize\n",
        "# To access a different set of parameters, you have to access submodules of AlexNet\n",
        "# (nn.Module objects, like AlexNet, implement the Composite Pattern)\n",
        "# e.g.: parameters of the fully connected layers: net.classifier.parameters()\n",
        "# e.g.: parameters of the convolutional layers: look at alexnet's source code ;) \n",
        "parameters_to_optimize = net.parameters() # In this case we optimize over all the parameters of AlexNet\n",
        "\n",
        "# Define optimizer\n",
        "# An optimizer updates the weights based on loss\n",
        "# We use SGD with momentum\n",
        "optimizer = optim.SGD(parameters_to_optimize, lr=LR, momentum=MOMENTUM, weight_decay=WEIGHT_DECAY)\n",
        "\n",
        "# Define scheduler\n",
        "# A scheduler dynamically changes learning rate\n",
        "# The most common schedule is the step(-down), which multiplies learning rate by gamma every STEP_SIZE epochs\n",
        "scheduler = optim.lr_scheduler.StepLR(optimizer, step_size=STEP_SIZE, gamma=GAMMA)"
      ],
      "execution_count": 0,
      "outputs": []
    },
    {
      "cell_type": "markdown",
      "metadata": {
        "id": "AxYUli9d9uYQ",
        "colab_type": "text"
      },
      "source": [
        "**Train**"
      ]
    },
    {
      "cell_type": "code",
      "metadata": {
        "id": "GIL6a1GZF38I",
        "colab_type": "code",
        "colab": {}
      },
      "source": [
        "# By default, everything is loaded to cpu\n",
        "net = net.to(DEVICE) # this will bring the network to GPU if DEVICE is cuda\n",
        "cudnn.benchmark # Calling this optimizes runtime\n",
        " \n",
        "loss_train = []\n",
        "loss_dann = []\n",
        "loss_alex = []\n",
        "current_step = 0\n",
        "\n",
        "# Start iterating over the epochs\n",
        "for epoch in range(NUM_EPOCHS):\n",
        "  print('Starting epoch {}/{}, LR = {}'.format(epoch+1, NUM_EPOCHS, scheduler.get_last_lr()))\n",
        "  losses_net = []\n",
        "  losses_alex = []\n",
        "  losses_dann = []\n",
        "\n",
        "  \n",
        "  # Iterate over the dataset\n",
        "  for images, labels in train_dataloader:\n",
        "    # Bring data over the device of choice\n",
        "    images = images.to(DEVICE)\n",
        "    labels = labels.to(DEVICE)\n",
        "\n",
        "    loss_tmp = 0\n",
        "    loss_alex_tmp = 0\n",
        "    loss_dann_tmp = 0\n",
        "\n",
        "    net.train() # Sets module in training mode\n",
        "\n",
        "    # PyTorch, by default, accumulates gradients after each backward pass\n",
        "    # We need to manually set the gradients to zero before starting a new iteration\n",
        "    optimizer.zero_grad() # Zero-ing the gradients\n",
        "\n",
        "### FIRST STEP ###\n",
        "\n",
        "    # Forward pass to the network\n",
        "    outputs = net(images)\n",
        "\n",
        "    # Compute loss based on output and ground truth\n",
        "    loss = criterion(outputs, labels)\n",
        "    loss_alex_tmp+=loss.item()\n",
        "    loss_tmp+=loss.item()\n",
        "\n",
        "    loss.backward()  # backward pass: computes gradients\n",
        "\n",
        "    if DANN:\n",
        "### SECOND STEP ###\n",
        "\n",
        "      # Forward pass to the network\n",
        "      outputs = net(images, alpha = ALPHA)\n",
        "\n",
        "      # Compute loss based on output and ground truth\n",
        "      loss = criterion(outputs, torch.zeros(labels.size(0), dtype = torch.int64).to(DEVICE))\n",
        "      loss_tmp+=loss.item()\n",
        "      loss_dann_tmp+=loss.item()\n",
        "\n",
        "      loss.backward()  # backward pass: computes gradients\n",
        "\n",
        "  ### THIRD STEP ###\n",
        "      images, _ = next(iter(target_dataloader))\n",
        "      images = images.to(DEVICE)\n",
        "      labels = labels.to(DEVICE)\n",
        "\n",
        "      # Forward pass to the network\n",
        "      outputs = net(images, alpha = ALPHA)\n",
        "\n",
        "      # Compute loss based on output and ground truth\n",
        "      loss = criterion(outputs, torch.ones(images.size(0), dtype = torch.int64).to(DEVICE))\n",
        "      loss_tmp+=loss.item()\n",
        "      loss_dann_tmp+=loss.item()\n",
        "\n",
        "      loss.backward()  # backward pass: computes gradients\n",
        "\n",
        "    # Log loss\n",
        "    if current_step % LOG_FREQUENCY == 0:\n",
        "      print('Step {}, Loss {}'.format(current_step, loss_tmp))\n",
        "\n",
        "    # Compute gradients for each layer and update weights\n",
        "    optimizer.step() # update weights based on accumulated gradients\n",
        "\n",
        "    losses_alex.append(loss_alex_tmp)\n",
        "    losses_net.append(loss_tmp)\n",
        "    losses_dann.append(loss_dann_tmp)\n",
        "\n",
        "    current_step += 1\n",
        "\n",
        "  loss_alex.append(sum(losses_alex)/len(losses_alex))\n",
        "  loss_dann.append(sum(losses_dann)/len(losses_dann))\n",
        "  loss_train.append(sum(losses_net)/len(losses_net))\n",
        "\n",
        "  # Step the scheduler\n",
        "  scheduler.step() "
      ],
      "execution_count": 0,
      "outputs": []
    },
    {
      "cell_type": "code",
      "metadata": {
        "id": "Kx9FI0jjGh4N",
        "colab_type": "code",
        "colab": {}
      },
      "source": [
        "plot_stat(loss_train)\n",
        "plot_stat(loss_alex,'AlexNet',loss_dann,'DANN')"
      ],
      "execution_count": 0,
      "outputs": []
    },
    {
      "cell_type": "markdown",
      "metadata": {
        "id": "UsHFI-GAJd69",
        "colab_type": "text"
      },
      "source": [
        "**Test**"
      ]
    },
    {
      "cell_type": "code",
      "metadata": {
        "id": "EO3HV5pqJg1o",
        "colab_type": "code",
        "colab": {}
      },
      "source": [
        "net = net.to(DEVICE) # this will bring the network to GPU if DEVICE is cuda\n",
        "net.train(False) # Set Network to evaluation mode\n",
        "\n",
        "running_corrects = 0\n",
        "for images, labels in tqdm(test_dataloader):\n",
        "  images = images.to(DEVICE)\n",
        "  labels = labels.to(DEVICE)\n",
        "\n",
        "  # Forward Pass\n",
        "  outputs = net(images)\n",
        "\n",
        "  # Get predictions\n",
        "  _, preds = torch.max(outputs.data, 1)\n",
        "\n",
        "  # Update Corrects\n",
        "  running_corrects += torch.sum(preds == labels.data).data.item()\n",
        "\n",
        "# Calculate Accuracy\n",
        "accuracy = running_corrects / float(len(test_dataset))\n",
        "\n",
        "print('Test Accuracy: {}'.format(accuracy))"
      ],
      "execution_count": 0,
      "outputs": []
    },
    {
      "cell_type": "markdown",
      "metadata": {
        "id": "8igddPyNFz-X",
        "colab_type": "text"
      },
      "source": [
        "**Grid Seach**"
      ]
    },
    {
      "cell_type": "code",
      "metadata": {
        "id": "mYINrlwHdmci",
        "colab_type": "code",
        "colab": {}
      },
      "source": [
        "hyperparameters = {'NUM_EPOCHS':[25,30], \n",
        "                  'LR':[1e-3,1e-2],\n",
        "                   'STEP_SIZE':[10,20],\n",
        "                   'ALPHA':[0.5,0.1,0.05]}\n",
        "\n",
        "best_acc = 0\n",
        "\n",
        "for config in ParameterGrid(hyperparameters): \n",
        "  print('Hyper: epoch {}, LR = {}, STEP_SIZE = {}, ALPHA = {}'.format(config['NUM_EPOCHS'], config['LR'], config['STEP_SIZE'], config['ALPHA'],))\n",
        "  del net\n",
        "  # Loading AlexNet model\n",
        "  net = alexnet(pretrained=True)\n",
        "  net.classifier[6] = nn.Linear(4096, NUM_CLASSES) \n",
        "  net.dann[6] = nn.Linear(4096,2)  \n",
        "\n",
        "  # Choose parameters to optimize\n",
        "  parameters_to_optimize = net.parameters()\n",
        "  # Define optimizer\n",
        "  optimizer = optim.SGD(parameters_to_optimize, lr=config['LR'], momentum=MOMENTUM, weight_decay=WEIGHT_DECAY) \n",
        "  # Define scheduler\n",
        "  scheduler = optim.lr_scheduler.StepLR(optimizer, step_size=config['STEP_SIZE'], gamma=GAMMA)\n",
        "\n",
        "  # By default, everything is loaded to cpu\n",
        "  net = net.to(DEVICE) # this will bring the network to GPU if DEVICE is cuda\n",
        "  cudnn.benchmark # Calling this optimizes runtime\n",
        "  \n",
        "  loss_train = []\n",
        "  loss_dann = []\n",
        "  loss_alex = []\n",
        "  accuracy = []\n",
        "  current_step = 0\n",
        "\n",
        "  # Start iterating over the epochs\n",
        "  for epoch in range(config['NUM_EPOCHS']):\n",
        "    losses_net = []\n",
        "    losses_alex = []\n",
        "    losses_dann = []\n",
        "    \n",
        "    # Iterate over the dataset\n",
        "    for images, labels in train_dataloader:\n",
        "      # Bring data over the device of choice\n",
        "      images = images.to(DEVICE)\n",
        "      labels = labels.to(DEVICE)\n",
        "\n",
        "      loss_tmp = 0\n",
        "      loss_alex_tmp = 0\n",
        "      loss_dann_tmp = 0\n",
        "\n",
        "      net.train() # Sets module in training mode\n",
        "\n",
        "      # PyTorch, by default, accumulates gradients after each backward pass\n",
        "      # We need to manually set the gradients to zero before starting a new iteration\n",
        "      optimizer.zero_grad() # Zero-ing the gradients\n",
        "\n",
        "  ### FIRST STEP ###\n",
        "\n",
        "      # Forward pass to the network\n",
        "      outputs = net(images)\n",
        "\n",
        "      # Compute loss based on output and ground truth\n",
        "      loss = criterion(outputs, labels)\n",
        "      loss_alex_tmp+=loss.item()\n",
        "      loss_tmp+=loss.item()\n",
        "\n",
        "      loss.backward()  # backward pass: computes gradients\n",
        "\n",
        "      if DANN:\n",
        "  ### SECOND STEP ###\n",
        "\n",
        "        # Forward pass to the network\n",
        "        outputs = net(images, alpha = config['ALPHA'])\n",
        "\n",
        "        # Compute loss based on output and ground truth\n",
        "        loss = criterion(outputs, torch.zeros(labels.size(0), dtype = torch.int64).to(DEVICE))\n",
        "        loss_tmp+=loss.item()\n",
        "        loss_dann_tmp+=loss.item()\n",
        "\n",
        "        loss.backward()  # backward pass: computes gradients\n",
        "\n",
        "    ### THIRD STEP ###\n",
        "        images, _ = next(iter(target_dataloader))\n",
        "        images = images.to(DEVICE)\n",
        "\n",
        "        # Forward pass to the network\n",
        "        outputs = net(images, alpha = config['ALPHA'])\n",
        "\n",
        "        # Compute loss based on output and ground truth\n",
        "        loss = criterion(outputs, torch.ones(images.size(0), dtype = torch.int64).to(DEVICE))\n",
        "        loss_tmp+=loss.item()\n",
        "        loss_dann_tmp+=loss.item()\n",
        "\n",
        "        loss.backward()  # backward pass: computes gradients\n",
        "\n",
        "      # Compute gradients for each layer and update weights\n",
        "      optimizer.step() # update weights based on accumulated gradients\n",
        "\n",
        "      losses_alex.append(loss_alex_tmp)\n",
        "      losses_net.append(loss_tmp)\n",
        "      losses_dann.append(loss_dann_tmp)\n",
        "\n",
        "      current_step += 1\n",
        "\n",
        "    loss_alex.append(sum(losses_alex)/len(losses_alex))\n",
        "    loss_dann.append(sum(losses_dann)/len(losses_dann))\n",
        "    loss_train.append(sum(losses_net)/len(losses_net))\n",
        "\n",
        "    # Step the scheduler\n",
        "    scheduler.step() \n",
        "\n",
        "  ### VALIDATION MODEL ###\n",
        "\n",
        "    net = net.to(DEVICE) # this will bring the network to GPU if DEVICE is cuda\n",
        "    net.train(False) # Set Network to evaluation mode\n",
        "\n",
        "    running_corrects = 0\n",
        "    for images, labels in cartoon_dataloader:\n",
        "      images = images.to(DEVICE)\n",
        "      labels = labels.to(DEVICE)\n",
        "\n",
        "      # Forward Pass\n",
        "      outputs = net(images)\n",
        "\n",
        "      # Get predictions\n",
        "      _, preds = torch.max(outputs.data, 1)\n",
        "\n",
        "      # Update Corrects\n",
        "      running_corrects += torch.sum(preds == labels.data).data.item()\n",
        "\n",
        "    # Calculate Accuracy\n",
        "    accuracy_cartoon = running_corrects / float(len(cartoon_dataset))\n",
        "\n",
        "    running_corrects = 0\n",
        "    for images, labels in sketch_dataloader:\n",
        "      images = images.to(DEVICE)\n",
        "      labels = labels.to(DEVICE)\n",
        "\n",
        "      # Forward Pass\n",
        "      outputs = net(images)\n",
        "\n",
        "      # Get predictions\n",
        "      _, preds = torch.max(outputs.data, 1)\n",
        "\n",
        "      # Update Corrects\n",
        "      running_corrects += torch.sum(preds == labels.data).data.item()\n",
        "\n",
        "    # Calculate Accuracy\n",
        "    accuracy_sketch = running_corrects / float(len(sketch_dataset))\n",
        "\n",
        "    accuracy.append((accuracy_cartoon + accuracy_sketch)/2)\n",
        "\n",
        "\n",
        "  avg_accuracy = sum(accuracy)/len(accuracy)\n",
        "\n",
        "  if avg_accuracy > best_acc:\n",
        "      best_acc = avg_accuracy\n",
        "      best_config = config\n",
        "      print('Found best average accuracy on val sets = {}'.format(best_acc,epoch))\n",
        "      best_loss_net = loss_train\n",
        "      best_loss_dann = loss_dann\n",
        "      best_loss_alex = loss_alex\n"
      ],
      "execution_count": 0,
      "outputs": []
    },
    {
      "cell_type": "code",
      "metadata": {
        "id": "6SI55r82FD25",
        "colab_type": "code",
        "colab": {}
      },
      "source": [
        "print(best_config)\n",
        "plot_stat(best_loss_alex,'Alex',best_loss_dann,'DANN')\n",
        "plot_stat(best_loss_net,'Net')"
      ],
      "execution_count": 0,
      "outputs": []
    }
  ]
}